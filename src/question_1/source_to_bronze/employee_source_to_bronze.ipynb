{
 "cells": [
  {
   "cell_type": "code",
   "execution_count": 0,
   "metadata": {
    "application/vnd.databricks.v1+cell": {
     "cellMetadata": {
      "byteLimit": 2048000,
      "rowLimit": 10000
     },
     "inputWidgets": {},
     "nuid": "114511f1-4bf8-4e8b-993f-3efb5c0dfcd4",
     "showTitle": false,
     "tableResultSettingsMap": {},
     "title": ""
    }
   },
   "outputs": [],
   "source": [
    "%run \"/Workspace/Users/edwin.a@diggibyte.com/databricks_assignment/question_1/source_to_bronze/util\""
   ]
  },
  {
   "cell_type": "code",
   "execution_count": 0,
   "metadata": {
    "application/vnd.databricks.v1+cell": {
     "cellMetadata": {
      "byteLimit": 2048000,
      "rowLimit": 10000
     },
     "inputWidgets": {},
     "nuid": "2a5fa335-0b13-4db6-a2e0-df6be980af7b",
     "showTitle": false,
     "tableResultSettingsMap": {},
     "title": ""
    }
   },
   "outputs": [],
   "source": [
    "employee_df=read_csv_file(\"/Volumes/workspace/default/assignment_practice/Employee-Q1.csv\")\n",
    "department_df=read_csv_file(\"/Volumes/workspace/default/assignment_practice/Department-Q1.csv\")\n",
    "country_df=read_csv_file(\"/Volumes/workspace/default/assignment_practice/Country-Q1.csv\")\n",
    "write_csv_file(employee_df,\"/Volumes/workspace/default/assignment_practice/df_write/Employee.csv\")\n",
    "write_csv_file(department_df,\"/Volumes/workspace/default/assignment_practice/df_write/Department.csv\")\n",
    "write_csv_file(country_df,\"/Volumes/workspace/default/assignment_practice/df_write/Country.csv\")"
   ]
  },
  {
   "cell_type": "code",
   "execution_count": 0,
   "metadata": {
    "application/vnd.databricks.v1+cell": {
     "cellMetadata": {},
     "inputWidgets": {},
     "nuid": "de43e3b6-9ad3-49e1-b508-fb1f51351133",
     "showTitle": false,
     "tableResultSettingsMap": {},
     "title": ""
    }
   },
   "outputs": [],
   "source": []
  }
 ],
 "metadata": {
  "application/vnd.databricks.v1+notebook": {
   "computePreferences": null,
   "dashboards": [],
   "environmentMetadata": {
    "base_environment": "",
    "environment_version": "2"
   },
   "inputWidgetPreferences": null,
   "language": "python",
   "notebookMetadata": {
    "pythonIndentUnit": 4
   },
   "notebookName": "employee_source_to_bronze",
   "widgets": {}
  },
  "language_info": {
   "name": "python"
  }
 },
 "nbformat": 4,
 "nbformat_minor": 0
}
