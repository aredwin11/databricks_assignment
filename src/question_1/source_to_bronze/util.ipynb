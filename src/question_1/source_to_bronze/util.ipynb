{
 "cells": [
  {
   "cell_type": "code",
   "execution_count": 0,
   "metadata": {
    "application/vnd.databricks.v1+cell": {
     "cellMetadata": {
      "byteLimit": 2048000,
      "rowLimit": 10000
     },
     "inputWidgets": {},
     "nuid": "d82f9d01-b9e6-42bb-ae26-20d9311e8f12",
     "showTitle": false,
     "tableResultSettingsMap": {},
     "title": ""
    }
   },
   "outputs": [],
   "source": [
    "import re\n",
    "from pyspark.sql.functions import current_date\n",
    "def read_csv_file(path):\n",
    "    return spark.read.option(\"header\", \"true\").format(\"csv\").load(path)\n",
    "\n",
    "def write_csv_file(df, path):\n",
    "    return df.write.mode(\"overwrite\").option(\"header\", \"true\").format(\"csv\").save(path)\n",
    "\n",
    "def read_csv_with_schema(path, schema):\n",
    "    return spark.read.option(\"header\", \"true\").schema(schema).format(\"csv\").load(path)\n",
    "\n",
    "def camel_to_snake(name):\n",
    "    return re.sub(r'(?<!^)(?=[A-Z])','_', name).lower()\n",
    "def rename_column_to_snake_case(df):\n",
    "    for col_name in df.columns:\n",
    "        df = df.withColumnRenamed(col_name, camel_to_snake(col_name))\n",
    "    return df\n",
    "\n",
    "def add_load_date(df):\n",
    "    return df.withColumn(\"load_date\", current_date())\n",
    "\n",
    "def add_at_load_date(df):\n",
    "    return df.withColumn(\"at_load_date\", current_date())"
   ]
  }
 ],
 "metadata": {
  "application/vnd.databricks.v1+notebook": {
   "computePreferences": null,
   "dashboards": [],
   "environmentMetadata": {
    "base_environment": "",
    "environment_version": "2"
   },
   "inputWidgetPreferences": null,
   "language": "python",
   "notebookMetadata": {
    "pythonIndentUnit": 4
   },
   "notebookName": "util",
   "widgets": {}
  },
  "language_info": {
   "name": "python"
  }
 },
 "nbformat": 4,
 "nbformat_minor": 0
}
